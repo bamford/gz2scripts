{
 "cells": [
  {
   "cell_type": "markdown",
   "metadata": {},
   "source": [
    "# Investigating left-right and starter bias in Galaxy Zoo Wars"
   ]
  },
  {
   "cell_type": "code",
   "execution_count": 1,
   "metadata": {
    "collapsed": false
   },
   "outputs": [],
   "source": [
    "from astropy.io import fits\n",
    "import astropy.table as tab\n",
    "from astropy.table import Table\n",
    "from astropy.stats import poisson_conf_interval\n",
    "import matplotlib.pyplot as plt\n",
    "import numpy as np\n",
    "from scipy import stats\n",
    "import math\n",
    "import random\n",
    "import pickle\n",
    "import os\n",
    "\n",
    "%matplotlib inline\n",
    "import matplotlib as mpl\n",
    "from matplotlib import pyplot as plt\n",
    "\n",
    "# better-looking plots\n",
    "plt.rcParams['font.family'] = 'serif'\n",
    "plt.rcParams['figure.figsize'] = (10.0, 8)\n",
    "plt.rcParams['font.size'] = 18\n",
    "mpl.ticker.AutoLocator.default_params['nbins'] = 5\n",
    "mpl.ticker.AutoLocator.default_params['prune'] = None\n",
    "\n",
    "mpl.rcParams['ps.useafm'] = True\n",
    "mpl.rcParams['pdf.use14corefonts'] = True\n",
    "mpl.rcParams['text.usetex'] = True\n",
    "\n",
    "%config InlineBackend.figure_formats = {'png', 'retina'}"
   ]
  },
  {
   "cell_type": "code",
   "execution_count": 2,
   "metadata": {
    "collapsed": true
   },
   "outputs": [],
   "source": [
    "colors = ['r','b','g','y']\n",
    "colors_long = ['orange','r','magenta','g','blue','cyan','k']"
   ]
  },
  {
   "cell_type": "code",
   "execution_count": 3,
   "metadata": {
    "collapsed": false
   },
   "outputs": [],
   "source": [
    "wars = Table.read('gz2spiralwars.fits.gz')\n",
    "#wars = Table.read('gz2barwars.fits.gz')"
   ]
  },
  {
   "cell_type": "code",
   "execution_count": 4,
   "metadata": {
    "collapsed": false
   },
   "outputs": [
    {
     "data": {
      "text/html": [
       "&lt;Table length=1006103&gt;\n",
       "<table id=\"table140467904756032\">\n",
       "<thead><tr><th>wars_classification_id</th><th>match_classification_id</th><th>annotation_id</th><th>task_id</th><th>user_id</th><th>starter_asset_id</th><th>winner_asset_id</th><th>loser_asset_id</th><th>winner_objid</th><th>loser_objid</th><th>winner_sample</th><th>loser_sample</th><th>redshift_bin</th><th>magsize_bin</th><th>battle_bin</th></tr></thead>\n",
       "<thead><tr><th>int32</th><th>int32</th><th>int32</th><th>int16</th><th>int32</th><th>int32</th><th>int32</th><th>int32</th><th>int64</th><th>int64</th><th>str16</th><th>str16</th><th>int32</th><th>int32</th><th>int32</th></tr></thead>\n",
       "<tr><td>3</td><td>2</td><td>12</td><td>13</td><td>142530</td><td>26141</td><td>21706</td><td>26141</td><td>587727866183418090</td><td>587728880871997672</td><td>original</td><td>original</td><td>5</td><td>88</td><td>88005</td></tr>\n",
       "<tr><td>13</td><td>11</td><td>50</td><td>13</td><td>146195</td><td>187443</td><td>187443</td><td>103201</td><td>587745402538885394</td><td>587736975808135174</td><td>original</td><td>original</td><td>7</td><td>73</td><td>73007</td></tr>\n",
       "<tr><td>20</td><td>18</td><td>83</td><td>13</td><td>101133</td><td>81602</td><td>81602</td><td>258</td><td>587735349087764824</td><td>587722982284001433</td><td>original</td><td>original</td><td>7</td><td>36</td><td>36007</td></tr>\n",
       "<tr><td>27</td><td>25</td><td>104</td><td>13</td><td>101133</td><td>79802</td><td>79802</td><td>85024</td><td>587735344795353288</td><td>587735665848615041</td><td>original</td><td>original</td><td>11</td><td>23</td><td>23011</td></tr>\n",
       "<tr><td>29</td><td>28</td><td>113</td><td>13</td><td>101133</td><td>186520</td><td>124737</td><td>186520</td><td>587739380993163399</td><td>587745243624505467</td><td>original</td><td>original</td><td>7</td><td>72</td><td>72007</td></tr>\n",
       "<tr><td>45</td><td>44</td><td>169</td><td>13</td><td>142530</td><td>19804</td><td>19804</td><td>108876</td><td>587726033847779454</td><td>587738195050954892</td><td>original</td><td>original</td><td>8</td><td>22</td><td>22008</td></tr>\n",
       "<tr><td>48</td><td>46</td><td>179</td><td>13</td><td>146195</td><td>22535</td><td>22535</td><td>61372</td><td>587727944029962369</td><td>587732770502279188</td><td>original</td><td>original</td><td>0</td><td>15</td><td>15000</td></tr>\n",
       "<tr><td>90</td><td>87</td><td>334</td><td>13</td><td>172445</td><td>59917</td><td>59917</td><td>183421</td><td>587732702324392186</td><td>587742863132852363</td><td>original</td><td>original</td><td>8</td><td>61</td><td>61008</td></tr>\n",
       "<tr><td>93</td><td>88</td><td>339</td><td>13</td><td>61063</td><td>60632</td><td>60632</td><td>22790</td><td>587732703396692127</td><td>587728307485605994</td><td>original</td><td>original</td><td>3</td><td>45</td><td>45003</td></tr>\n",
       "<tr><td>111</td><td>110</td><td>408</td><td>13</td><td>32659</td><td>187530</td><td>187530</td><td>94382</td><td>587745402543407258</td><td>587736585508946093</td><td>original</td><td>original</td><td>5</td><td>91</td><td>91005</td></tr>\n",
       "<tr><td>...</td><td>...</td><td>...</td><td>...</td><td>...</td><td>...</td><td>...</td><td>...</td><td>...</td><td>...</td><td>...</td><td>...</td><td>...</td><td>...</td><td>...</td></tr>\n",
       "<tr><td>16499069</td><td>16499068</td><td>60905358</td><td>13</td><td>140048</td><td>277420</td><td>277420</td><td>261969</td><td>587731185663410354</td><td>587739814776668260</td><td>stripe82</td><td>extra</td><td>8</td><td>76</td><td>76008</td></tr>\n",
       "<tr><td>16499082</td><td>16499080</td><td>60905420</td><td>13</td><td>140048</td><td>255841</td><td>255841</td><td>258941</td><td>587736477599007066</td><td>587738950952353906</td><td>extra</td><td>extra</td><td>2</td><td>49</td><td>49002</td></tr>\n",
       "<tr><td>16499100</td><td>16499099</td><td>60905503</td><td>13</td><td>140048</td><td>257787</td><td>257787</td><td>255461</td><td>587737827293921461</td><td>587735666921963782</td><td>extra</td><td>extra</td><td>10</td><td>47</td><td>47010</td></tr>\n",
       "<tr><td>16499104</td><td>16499102</td><td>60905516</td><td>13</td><td>140048</td><td>287594</td><td>287594</td><td>287594</td><td>587734305953022122</td><td>587734305953022122</td><td>stripe82</td><td>stripe82</td><td>7</td><td>92</td><td>92007</td></tr>\n",
       "<tr><td>16499115</td><td>16499113</td><td>60905564</td><td>13</td><td>140048</td><td>22091</td><td>22091</td><td>128147</td><td>587727942423281732</td><td>587739407844638867</td><td>original</td><td>original</td><td>2</td><td>23</td><td>23002</td></tr>\n",
       "<tr><td>16499128</td><td>16499127</td><td>60905618</td><td>13</td><td>140048</td><td>263194</td><td>263194</td><td>273556</td><td>587741533302292817</td><td>588848899896443095</td><td>extra</td><td>extra</td><td>10</td><td>54</td><td>54010</td></tr>\n",
       "<tr><td>16499143</td><td>16499140</td><td>60905676</td><td>13</td><td>204053</td><td>263539</td><td>263539</td><td>254118</td><td>587741707809456272</td><td>587734622169923753</td><td>extra</td><td>extra</td><td>2</td><td>65</td><td>65002</td></tr>\n",
       "<tr><td>16499149</td><td>16499147</td><td>60905710</td><td>13</td><td>204053</td><td>188296</td><td>214011</td><td>188296</td><td>588017626152763480</td><td>587745539443196069</td><td>original</td><td>original</td><td>6</td><td>96</td><td>96006</td></tr>\n",
       "<tr><td>16499162</td><td>16499161</td><td>60905756</td><td>13</td><td>204053</td><td>187836</td><td>187836</td><td>149124</td><td>587745403607384381</td><td>587741421104726051</td><td>original</td><td>original</td><td>3</td><td>80</td><td>80003</td></tr>\n",
       "<tr><td>16499341</td><td>16499338</td><td>60906476</td><td>13</td><td>212754</td><td>269197</td><td>269197</td><td>269197</td><td>588013383803142229</td><td>588013383803142229</td><td>extra</td><td>extra</td><td>1</td><td>61</td><td>61001</td></tr>\n",
       "</table>"
      ],
      "text/plain": [
       "<Table length=1006103>\n",
       "wars_classification_id match_classification_id ... magsize_bin battle_bin\n",
       "        int32                   int32          ...    int32      int32   \n",
       "---------------------- ----------------------- ... ----------- ----------\n",
       "                     3                       2 ...          88      88005\n",
       "                    13                      11 ...          73      73007\n",
       "                    20                      18 ...          36      36007\n",
       "                    27                      25 ...          23      23011\n",
       "                    29                      28 ...          72      72007\n",
       "                    45                      44 ...          22      22008\n",
       "                    48                      46 ...          15      15000\n",
       "                    90                      87 ...          61      61008\n",
       "                    93                      88 ...          45      45003\n",
       "                   111                     110 ...          91      91005\n",
       "                   ...                     ... ...         ...        ...\n",
       "              16499069                16499068 ...          76      76008\n",
       "              16499082                16499080 ...          49      49002\n",
       "              16499100                16499099 ...          47      47010\n",
       "              16499104                16499102 ...          92      92007\n",
       "              16499115                16499113 ...          23      23002\n",
       "              16499128                16499127 ...          54      54010\n",
       "              16499143                16499140 ...          65      65002\n",
       "              16499149                16499147 ...          96      96006\n",
       "              16499162                16499161 ...          80      80003\n",
       "              16499341                16499338 ...          61      61001"
      ]
     },
     "execution_count": 4,
     "metadata": {},
     "output_type": "execute_result"
    }
   ],
   "source": [
    "wars"
   ]
  },
  {
   "cell_type": "code",
   "execution_count": 5,
   "metadata": {
    "collapsed": false
   },
   "outputs": [],
   "source": [
    "starter_win = wars['starter_asset_id'] == wars['winner_asset_id']\n",
    "starter_lose = wars['starter_asset_id'] == wars['loser_asset_id']"
   ]
  },
  {
   "cell_type": "markdown",
   "metadata": {},
   "source": [
    "The starter tends to win, as the classifier has just decided that it has the feature in question, whereas its opponent is simply drawn from all galaxies with similar luminosity, size and redshift."
   ]
  },
  {
   "cell_type": "code",
   "execution_count": 6,
   "metadata": {
    "collapsed": false
   },
   "outputs": [
    {
     "name": "stdout",
     "output_type": "stream",
     "text": [
      "795863 210168\n"
     ]
    }
   ],
   "source": [
    "print(starter_win.sum(), starter_lose.sum())"
   ]
  },
  {
   "cell_type": "markdown",
   "metadata": {},
   "source": [
    "For some reason there are a small number of wars where the starter id does not match the winner or loser!\n",
    "Note that the identification of the starter id does rely on searching previous classifications for a match.\n",
    "There must be a small number of occasions where this matching fails, but I'm not going to redo all that now.\n",
    "There are also a set of wars where the same galaxy is on both sides!  Unfortunately, we don't know whether the galaxy on the left or the right won. Just remove these wars from the table."
   ]
  },
  {
   "cell_type": "code",
   "execution_count": 7,
   "metadata": {
    "collapsed": false
   },
   "outputs": [
    {
     "name": "stdout",
     "output_type": "stream",
     "text": [
      "Starter mismatch: 6542\n",
      "Same winner and loser: 6470\n"
     ]
    }
   ],
   "source": [
    "print('Starter mismatch:', (~(starter_win | starter_lose)).sum())\n",
    "print('Same winner and loser:', (starter_win & starter_lose).sum())\n",
    "wars = wars[(starter_win | starter_lose) & ~(starter_win & starter_lose)]"
   ]
  },
  {
   "cell_type": "markdown",
   "metadata": {},
   "source": [
    "Checking in more detail how the starter influences the result.  For each pair, denote one 'A' and the other 'B' (by ordering their ids - randomly permuted so this doesn't introduce a bias).  Find groups of wars between the same pair of galaxies.  Then count how often each wins when it is the starter or opponent.\n",
    "\n",
    "For pairs where one member starts most of the wars, it will be expected to win most, for same reason as above.  However, on average, and especially where both pairs start an equal number of wars, on would expect 'A' to win as many wars when starter as when opponent.  Any deviation suggests that being starter has an influence.  We see that this is the case, with the starter gaining an advantage of ~8 percent.  However, assuming that the starter galaxy always appears on one side, we can't tell if this is due to a left-right preference, or a preference for the galaxy they have been looking at for longer."
   ]
  },
  {
   "cell_type": "code",
   "execution_count": 8,
   "metadata": {
    "collapsed": false
   },
   "outputs": [],
   "source": [
    "max_id = max(wars['winner_asset_id'].max(), wars['loser_asset_id'].max()) + 1\n",
    "alt_id = np.random.permutation(max_id)\n",
    "inv_alt_id = np.argsort(alt_id)\n",
    "\n",
    "A = np.minimum(alt_id[wars['winner_asset_id']], alt_id[wars['loser_asset_id']])\n",
    "B = np.maximum(alt_id[wars['winner_asset_id']], alt_id[wars['loser_asset_id']])\n",
    "\n",
    "wars['A'] = inv_alt_id[A]\n",
    "wars['B'] = inv_alt_id[B]\n",
    "\n",
    "grouped = wars.group_by(['A', 'B'])\n",
    "\n",
    "n_in_group = np.diff(grouped.groups.indices)\n",
    "grouped = grouped.groups[n_in_group > 1]\n",
    "\n",
    "grouped['A_wins'] = grouped['A'] == grouped['winner_asset_id']\n",
    "grouped['B_wins'] = grouped['B'] == grouped['winner_asset_id']\n",
    "grouped['A_starts'] = grouped['A'] == grouped['starter_asset_id']\n",
    "grouped['B_starts'] = grouped['B'] == grouped['starter_asset_id']\n",
    "grouped['A_starts_and_A_wins'] = grouped['A_starts'] & grouped['A_wins']\n",
    "grouped['B_starts_and_A_wins'] = grouped['B_starts'] & grouped['A_wins']\n",
    "grouped['A_starts_and_B_wins'] = grouped['A_starts'] & grouped['B_wins']\n",
    "grouped['B_starts_and_B_wins'] = grouped['B_starts'] & grouped['B_wins']\n",
    "grouped['A_and_B_same'] = grouped['A'] == grouped['B']"
   ]
  },
  {
   "cell_type": "code",
   "execution_count": 9,
   "metadata": {
    "collapsed": false
   },
   "outputs": [],
   "source": [
    "n_A_starts = grouped['A_starts'].groups.aggregate(np.sum)\n",
    "n_B_starts = grouped['B_starts'].groups.aggregate(np.sum)\n",
    "n_total = np.diff(grouped.groups.indices)\n",
    "n_groups = len(grouped.groups)\n",
    "n_A_starts_and_A_wins = grouped['A_starts_and_A_wins'].groups.aggregate(np.sum)\n",
    "n_B_starts_and_A_wins = grouped['B_starts_and_A_wins'].groups.aggregate(np.sum)\n",
    "n_A_starts_and_B_wins = grouped['A_starts_and_B_wins'].groups.aggregate(np.sum)\n",
    "n_B_starts_and_B_wins = grouped['B_starts_and_B_wins'].groups.aggregate(np.sum)\n",
    "same_A_and_B = grouped['A_and_B_same'].groups.aggregate(np.logical_and)"
   ]
  },
  {
   "cell_type": "code",
   "execution_count": 10,
   "metadata": {
    "collapsed": false
   },
   "outputs": [
    {
     "name": "stdout",
     "output_type": "stream",
     "text": [
      "0 0\n",
      "126958 126958\n"
     ]
    }
   ],
   "source": [
    "print(n_total[same_A_and_B].sum(), len(grouped[grouped['A_and_B_same']]))\n",
    "print(n_total[~same_A_and_B].sum(), len(grouped[~grouped['A_and_B_same']]))"
   ]
  },
  {
   "cell_type": "code",
   "execution_count": 11,
   "metadata": {
    "collapsed": false
   },
   "outputs": [],
   "source": [
    "def print_table(ok):\n",
    "    f = np.zeros((2,2))\n",
    "    f[0,0] = n_A_starts_and_A_wins[ok].sum() / n_total[ok].sum()\n",
    "    f[0,1] = n_A_starts_and_B_wins[ok].sum() / n_total[ok].sum()\n",
    "    f[1,0] = n_B_starts_and_A_wins[ok].sum() / n_total[ok].sum()\n",
    "    f[1,1] = n_B_starts_and_B_wins[ok].sum() / n_total[ok].sum()\n",
    "    print('{:8s} {:>8s} {:>8s}'.format('', 'A wins', 'B wins'))\n",
    "    print('{:8s} {:8.3f} {:8.3f}'.format('A starts', f[0, 0], f[0, 1]))\n",
    "    print('{:8s} {:8.3f} {:8.3f}'.format('B starts', f[1, 0], f[1, 1]))\n",
    "    print('sum = {:.3f}'.format(f.sum()))"
   ]
  },
  {
   "cell_type": "code",
   "execution_count": 12,
   "metadata": {
    "collapsed": false
   },
   "outputs": [
    {
     "name": "stdout",
     "output_type": "stream",
     "text": [
      "n_A > n_B\n",
      "           A wins   B wins\n",
      "A starts    0.797    0.176\n",
      "B starts    0.013    0.014\n",
      "sum = 1.000\n"
     ]
    }
   ],
   "source": [
    "print('n_A > n_B')\n",
    "print_table(n_A_starts > n_B_starts)"
   ]
  },
  {
   "cell_type": "code",
   "execution_count": 13,
   "metadata": {
    "collapsed": false
   },
   "outputs": [
    {
     "name": "stdout",
     "output_type": "stream",
     "text": [
      "n_A < n_B\n",
      "           A wins   B wins\n",
      "A starts    0.014    0.014\n",
      "B starts    0.174    0.799\n",
      "sum = 1.000\n"
     ]
    }
   ],
   "source": [
    "print('n_A < n_B')\n",
    "print_table(n_A_starts < n_B_starts)"
   ]
  },
  {
   "cell_type": "code",
   "execution_count": 14,
   "metadata": {
    "collapsed": false
   },
   "outputs": [
    {
     "name": "stdout",
     "output_type": "stream",
     "text": [
      "n_A == n_B\n",
      "           A wins   B wins\n",
      "A starts    0.287    0.213\n",
      "B starts    0.204    0.296\n",
      "sum = 1.000\n"
     ]
    }
   ],
   "source": [
    "print('n_A == n_B')\n",
    "print_table(n_A_starts == n_B_starts)"
   ]
  },
  {
   "cell_type": "code",
   "execution_count": 15,
   "metadata": {
    "collapsed": false
   },
   "outputs": [
    {
     "data": {
      "image/png": "[encoded data removed]",
      "text/plain": [
       "<matplotlib.figure.Figure at 0x7fc14d32a080>"
      ]
     },
     "metadata": {
      "image/png": {
       "height": 489,
       "width": 628
      }
     },
     "output_type": "display_data"
    }
   ],
   "source": [
    "# only select groups where there are as many A starts as B starts\n",
    "ok = n_A_starts == n_B_starts\n",
    "\n",
    "f_A_wins_when_A_starts = n_A_starts_and_A_wins[ok] / n_A_starts[ok]\n",
    "f_A_wins_when_B_starts = n_B_starts_and_A_wins[ok] / n_B_starts[ok]\n",
    "\n",
    "_ = plt.hist(f_A_wins_when_A_starts - f_A_wins_when_B_starts, bins=5)"
   ]
  },
  {
   "cell_type": "markdown",
   "metadata": {},
   "source": [
    "Could investigate further by looking into how this depends on the strength of the feature, from the normal vote fraction or the wars rank."
   ]
  }
 ],
 "metadata": {
  "hide_input": false,
  "kernelspec": {
   "display_name": "Python 3",
   "language": "python",
   "name": "python3"
  },
  "language_info": {
   "codemirror_mode": {
    "name": "ipython",
    "version": 3
   },
   "file_extension": ".py",
   "mimetype": "text/x-python",
   "name": "python",
   "nbconvert_exporter": "python",
   "pygments_lexer": "ipython3",
   "version": "3.5.1"
  }
 },
 "nbformat": 4,
 "nbformat_minor": 0
}
